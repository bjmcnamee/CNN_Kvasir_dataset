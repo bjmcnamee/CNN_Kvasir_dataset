{
 "cells": [
  {
   "cell_type": "code",
   "execution_count": 9,
   "metadata": {
    "collapsed": true
   },
   "outputs": [],
   "source": [
    "import os\n",
    "import numpy as np\n",
    "import glob\n",
    "import shutil\n",
    "import pandas as pd"
   ]
  },
  {
   "cell_type": "code",
   "execution_count": 11,
   "outputs": [],
   "source": [
    "base_dir = \"CNN_3/kvasir-dataset-v2-features\"\n",
    "classes = ['dyed-lifted-polyps',\n",
    "           'dyed-resection-margins',\n",
    "           'esophagitis','normal-cecum',\n",
    "           'normal-pylorus','normal-z-line',\n",
    "           'polyps',\n",
    "           'ulcerative-colitis']\n",
    "#file_type = 'jpg'\n",
    "file_type = 'features'\n",
    "os.getcwd()"
   ],
   "metadata": {
    "collapsed": false,
    "pycharm": {
     "name": "#%%\n"
    }
   }
  },
  {
   "cell_type": "code",
   "execution_count": 12,
   "outputs": [
    {
     "name": "stdout",
     "output_type": "stream",
     "text": [
      "dyed-lifted-polyps: 1000 Images\n",
      "dyed-resection-margins: 1000 Images\n",
      "esophagitis: 1000 Images\n",
      "normal-cecum: 1000 Images\n",
      "normal-pylorus: 1000 Images\n",
      "normal-z-line: 1000 Images\n",
      "polyps: 1000 Images\n",
      "ulcerative-colitis: 1000 Images\n"
     ]
    },
    {
     "data": {
      "text/plain": "(700, 150, 150)"
     },
     "execution_count": 12,
     "metadata": {},
     "output_type": "execute_result"
    }
   ],
   "source": [
    "# Split the dataset random into train/validation/test 70:15:15 using set seed with the last 3 digits of your student number.\n",
    "\n",
    "for cl in classes:\n",
    "    img_path = os.path.join(base_dir, cl)\n",
    "    images = glob.glob(img_path + '/*.' + file_type)\n",
    "    print(\"{}: {} Images\".format(cl, len(images)))\n",
    "    df = pd.DataFrame(images)\n",
    "    train, test, validate = np.split(df.sample(frac=1, random_state=204), [int(.7*len(df)), int(.85*len(df))])\n",
    "\n",
    "    for image in train[0].to_list():\n",
    "        if not os.path.exists(os.path.join(base_dir, 'train', cl)):\n",
    "            os.makedirs(os.path.join(base_dir, 'train', cl))\n",
    "        shutil.move(image, os.path.join(base_dir, 'train', cl))\n",
    "\n",
    "    for image in test[0].to_list():\n",
    "        if not os.path.exists(os.path.join(base_dir, 'test', cl)):\n",
    "            os.makedirs(os.path.join(base_dir, 'test', cl))\n",
    "        shutil.move(image, os.path.join(base_dir, 'test', cl))\n",
    "\n",
    "    for image in validate[0].to_list():\n",
    "        if not os.path.exists(os.path.join(base_dir, 'validate', cl)):\n",
    "            os.makedirs(os.path.join(base_dir, 'validate', cl))\n",
    "        shutil.move(image, os.path.join(base_dir, 'validate', cl))\n",
    "\n",
    "len(train), len(test), len(validate)"
   ],
   "metadata": {
    "collapsed": false,
    "pycharm": {
     "name": "#%%\n"
    }
   }
  }
 ],
 "metadata": {
  "kernelspec": {
   "display_name": "Python 3",
   "language": "python",
   "name": "python3"
  },
  "language_info": {
   "codemirror_mode": {
    "name": "ipython",
    "version": 2
   },
   "file_extension": ".py",
   "mimetype": "text/x-python",
   "name": "python",
   "nbconvert_exporter": "python",
   "pygments_lexer": "ipython2",
   "version": "2.7.6"
  }
 },
 "nbformat": 4,
 "nbformat_minor": 0
}