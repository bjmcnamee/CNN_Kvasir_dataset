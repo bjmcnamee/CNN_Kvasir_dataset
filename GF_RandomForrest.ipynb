{
 "cells": [
  {
   "cell_type": "code",
   "execution_count": 48,
   "outputs": [
    {
     "name": "stdout",
     "output_type": "stream",
     "text": [
      "The autoreload extension is already loaded. To reload it, use:\n",
      "  %reload_ext autoreload\n"
     ]
    }
   ],
   "source": [
    "from sklearn.ensemble import RandomForestClassifier\n",
    "import my_functions as myfns\n",
    "import warnings\n",
    "warnings.simplefilter(action='ignore', category=FutureWarning)\n",
    "from sklearn.metrics import accuracy_score, precision_score\n",
    "import pandas as pd\n",
    "import numpy as np\n",
    "import os\n",
    "\n",
    "%load_ext autoreload\n",
    "%autoreload 2"
   ],
   "metadata": {
    "collapsed": false,
    "pycharm": {
     "name": "#%%\n"
    }
   }
  },
  {
   "cell_type": "code",
   "execution_count": 43,
   "outputs": [
    {
     "name": "stderr",
     "output_type": "stream",
     "text": [
      "IOPub data rate exceeded.\n",
      "The notebook server will temporarily stop sending output\n",
      "to the client in order to avoid crashing it.\n",
      "To change this limit, set the config variable\n",
      "`--NotebookApp.iopub_data_rate_limit`.\n",
      "\n",
      "Current values:\n",
      "NotebookApp.iopub_data_rate_limit=1000000.0 (bytes/sec)\n",
      "NotebookApp.rate_limit_window=3.0 (secs)\n",
      "\n"
     ]
    },
    {
     "data": {
      "text/plain": "Empty DataFrame\nColumns: [filename, dataset, label, JCD_1, JCD_2, JCD_3, JCD_4, JCD_5, JCD_6, JCD_7, JCD_8, JCD_9, JCD_10, JCD_11, JCD_12, JCD_13, JCD_14, JCD_15, JCD_16, JCD_17, JCD_18, JCD_19, JCD_20, JCD_21, JCD_22, JCD_23, JCD_24, JCD_25, JCD_26, JCD_27, JCD_28, JCD_29, JCD_30, JCD_31, JCD_32, JCD_33, JCD_34, JCD_35, JCD_36, JCD_37, JCD_38, JCD_39, JCD_40, JCD_41, JCD_42, JCD_43, JCD_44, JCD_45, JCD_46, JCD_47, JCD_48, JCD_49, JCD_50, JCD_51, JCD_52, JCD_53, JCD_54, JCD_55, JCD_56, JCD_57, JCD_58, JCD_59, JCD_60, JCD_61, JCD_62, JCD_63, JCD_64, JCD_65, JCD_66, JCD_67, JCD_68, JCD_69, JCD_70, JCD_71, JCD_72, JCD_73, JCD_74, JCD_75, JCD_76, JCD_77, JCD_78, JCD_79, JCD_80, JCD_81, JCD_82, JCD_83, JCD_84, JCD_85, JCD_86, JCD_87, JCD_88, JCD_89, JCD_90, JCD_91, JCD_92, JCD_93, JCD_94, JCD_95, JCD_96, JCD_97, ...]\nIndex: []\n\n[0 rows x 1188 columns]",
      "text/html": "<div>\n<style scoped>\n    .dataframe tbody tr th:only-of-type {\n        vertical-align: middle;\n    }\n\n    .dataframe tbody tr th {\n        vertical-align: top;\n    }\n\n    .dataframe thead th {\n        text-align: right;\n    }\n</style>\n<table border=\"1\" class=\"dataframe\">\n  <thead>\n    <tr style=\"text-align: right;\">\n      <th></th>\n      <th>filename</th>\n      <th>dataset</th>\n      <th>label</th>\n      <th>JCD_1</th>\n      <th>JCD_2</th>\n      <th>JCD_3</th>\n      <th>JCD_4</th>\n      <th>JCD_5</th>\n      <th>JCD_6</th>\n      <th>JCD_7</th>\n      <th>...</th>\n      <th>PHOG_621</th>\n      <th>PHOG_622</th>\n      <th>PHOG_623</th>\n      <th>PHOG_624</th>\n      <th>PHOG_625</th>\n      <th>PHOG_626</th>\n      <th>PHOG_627</th>\n      <th>PHOG_628</th>\n      <th>PHOG_629</th>\n      <th>PHOG_630</th>\n    </tr>\n  </thead>\n  <tbody>\n  </tbody>\n</table>\n<p>0 rows × 1188 columns</p>\n</div>"
     },
     "execution_count": 43,
     "metadata": {},
     "output_type": "execute_result"
    }
   ],
   "source": [
    "datasets = ['test','train','validate']\n",
    "os.chdir('C:/Users/Bernard/OneDrive/Documents/Viz/Ass02/CNN_3/kvasir-dataset-v2/test')\n",
    "labels = os.listdir('.')\n",
    "os.chdir('../')\n",
    "path = os.getcwd()\n",
    "features = ['JCD', 'Tamura', 'Colorlayout','EdgeHistogram','AutoColorCorrelogram','PHOG']\n",
    "feature_lengths = [168, 18, 33, 80, 256, 630]\n",
    "cols = ['filename','dataset','label']\n",
    "for i in range(len(features)):\n",
    "    j = 1\n",
    "    while j <= feature_lengths[i]:\n",
    "        cols.append(features[i] + '_' + str(j))\n",
    "        j += 1\n",
    "        print(cols)\n",
    "df = pd.DataFrame(columns=cols)\n",
    "df"
   ],
   "metadata": {
    "collapsed": false,
    "pycharm": {
     "name": "#%%\n"
    }
   }
  },
  {
   "cell_type": "code",
   "execution_count": 44,
   "outputs": [
    {
     "name": "stdout",
     "output_type": "stream",
     "text": [
      "Processing Global Feature Files...\n",
      "TEST files :\n",
      "150 dyed-lifted-polyps files...\n",
      "150 dyed-resection-margins files...\n",
      "150 esophagitis files...\n",
      "150 normal-cecum files...\n",
      "150 normal-pylorus files...\n",
      "150 normal-z-line files...\n",
      "150 polyps files...\n",
      "150 ulcerative-colitis files...\n",
      "TRAIN files :\n",
      "700 dyed-lifted-polyps files...\n",
      "700 dyed-resection-margins files...\n",
      "700 esophagitis files...\n",
      "700 normal-cecum files...\n",
      "700 normal-pylorus files...\n",
      "700 normal-z-line files...\n",
      "700 polyps files...\n",
      "700 ulcerative-colitis files...\n",
      "VALIDATE files :\n",
      "150 dyed-lifted-polyps files...\n",
      "150 dyed-resection-margins files...\n",
      "150 esophagitis files...\n",
      "150 normal-cecum files...\n",
      "150 normal-pylorus files...\n",
      "150 normal-z-line files...\n",
      "150 polyps files...\n",
      "150 ulcerative-colitis files...\n"
     ]
    }
   ],
   "source": [
    "os.chdir('C:/Users/Bernard/OneDrive/Documents/Viz/Ass02/CNN_3/kvasir-dataset-v2')\n",
    "path = os.getcwd()\n",
    "print('Processing Global Feature Files...')\n",
    "for dataset in datasets:\n",
    "    print(dataset.upper() + ' files :')\n",
    "    for label in labels:\n",
    "        path_tmp = path + '/' + dataset + '/' + label + '/'\n",
    "        os.chdir(path_tmp)\n",
    "        files = [file for file in os.listdir('.') if file.endswith(\".features\")]\n",
    "        print(str(len(files)) + ' ' + label + ' files...')\n",
    "        df = myfns.get_features(files, dataset, label, df)"
   ],
   "metadata": {
    "collapsed": false,
    "pycharm": {
     "name": "#%%\n"
    }
   }
  },
  {
   "cell_type": "code",
   "execution_count": 59,
   "outputs": [
    {
     "data": {
      "text/plain": "     JCD_1 JCD_2 JCD_3 JCD_4 JCD_5 JCD_6 JCD_7 JCD_8 JCD_9 JCD_10  ...  \\\n0      0.0   1.5   4.5   0.0   0.0   0.0   2.5   1.5   3.5    0.0  ...   \n1      3.0   3.5   6.0   0.0   0.0   0.0   1.0   0.0   0.5    0.5  ...   \n2      1.0   1.5   5.5   0.0   0.0   0.0   3.0   3.0   5.0    1.0  ...   \n3      0.5   3.5   6.0   0.0   0.0   0.0   3.0   1.5   3.5    0.0  ...   \n4      0.0   0.0   5.5   0.0   0.0   0.0   3.5   4.0   5.0    0.0  ...   \n...    ...   ...   ...   ...   ...   ...   ...   ...   ...    ...  ...   \n1195   0.0   0.0   5.0   0.0   0.0   0.0   4.0   6.5   2.0    0.0  ...   \n1196   0.0   0.0   5.0   0.0   2.5   0.0   1.5   5.5   1.0    0.0  ...   \n1197   2.0   0.0   5.0   0.0   4.0   1.5   0.5   3.0   0.5    0.0  ...   \n1198   1.5   0.0   5.0   0.0   0.0   0.0   3.0   5.5   4.5    0.0  ...   \n1199   2.0   0.0   5.5   0.0   0.0   1.0   1.0   5.0   5.0    0.0  ...   \n\n     PHOG_621 PHOG_622 PHOG_623 PHOG_624 PHOG_625 PHOG_626 PHOG_627 PHOG_628  \\\n0         0.0      6.0      0.0      0.0      0.0      0.0      2.0      3.0   \n1         8.0      4.0      1.0      3.0      3.0      1.0      2.0     14.0   \n2         9.0      5.0      3.0      8.0      6.0      4.0      1.0      4.0   \n3         9.0      8.0      8.0      9.0     10.0     11.0      6.0      5.0   \n4         6.0      2.0      2.0      4.0      5.0      2.0      1.0      2.0   \n...       ...      ...      ...      ...      ...      ...      ...      ...   \n1195     12.0     14.0     11.0      1.0      0.0      0.0      0.0      0.0   \n1196      2.0      7.0     14.0     15.0      5.0      2.0      1.0      1.0   \n1197      6.0      9.0     12.0     11.0      6.0      1.0      0.0      1.0   \n1198     13.0     15.0     13.0     11.0      8.0      6.0      5.0      4.0   \n1199      2.0      7.0     15.0     12.0      5.0      1.0      0.0      0.0   \n\n     PHOG_629 PHOG_630  \n0         0.0      0.0  \n1         2.0      0.0  \n2         3.0      8.0  \n3         7.0     10.0  \n4         2.0      4.0  \n...       ...      ...  \n1195      1.0      2.0  \n1196      2.0      4.0  \n1197      0.0      1.0  \n1198      4.0      3.0  \n1199      0.0      3.0  \n\n[1200 rows x 1185 columns]",
      "text/html": "<div>\n<style scoped>\n    .dataframe tbody tr th:only-of-type {\n        vertical-align: middle;\n    }\n\n    .dataframe tbody tr th {\n        vertical-align: top;\n    }\n\n    .dataframe thead th {\n        text-align: right;\n    }\n</style>\n<table border=\"1\" class=\"dataframe\">\n  <thead>\n    <tr style=\"text-align: right;\">\n      <th></th>\n      <th>JCD_1</th>\n      <th>JCD_2</th>\n      <th>JCD_3</th>\n      <th>JCD_4</th>\n      <th>JCD_5</th>\n      <th>JCD_6</th>\n      <th>JCD_7</th>\n      <th>JCD_8</th>\n      <th>JCD_9</th>\n      <th>JCD_10</th>\n      <th>...</th>\n      <th>PHOG_621</th>\n      <th>PHOG_622</th>\n      <th>PHOG_623</th>\n      <th>PHOG_624</th>\n      <th>PHOG_625</th>\n      <th>PHOG_626</th>\n      <th>PHOG_627</th>\n      <th>PHOG_628</th>\n      <th>PHOG_629</th>\n      <th>PHOG_630</th>\n    </tr>\n  </thead>\n  <tbody>\n    <tr>\n      <th>0</th>\n      <td>0.0</td>\n      <td>1.5</td>\n      <td>4.5</td>\n      <td>0.0</td>\n      <td>0.0</td>\n      <td>0.0</td>\n      <td>2.5</td>\n      <td>1.5</td>\n      <td>3.5</td>\n      <td>0.0</td>\n      <td>...</td>\n      <td>0.0</td>\n      <td>6.0</td>\n      <td>0.0</td>\n      <td>0.0</td>\n      <td>0.0</td>\n      <td>0.0</td>\n      <td>2.0</td>\n      <td>3.0</td>\n      <td>0.0</td>\n      <td>0.0</td>\n    </tr>\n    <tr>\n      <th>1</th>\n      <td>3.0</td>\n      <td>3.5</td>\n      <td>6.0</td>\n      <td>0.0</td>\n      <td>0.0</td>\n      <td>0.0</td>\n      <td>1.0</td>\n      <td>0.0</td>\n      <td>0.5</td>\n      <td>0.5</td>\n      <td>...</td>\n      <td>8.0</td>\n      <td>4.0</td>\n      <td>1.0</td>\n      <td>3.0</td>\n      <td>3.0</td>\n      <td>1.0</td>\n      <td>2.0</td>\n      <td>14.0</td>\n      <td>2.0</td>\n      <td>0.0</td>\n    </tr>\n    <tr>\n      <th>2</th>\n      <td>1.0</td>\n      <td>1.5</td>\n      <td>5.5</td>\n      <td>0.0</td>\n      <td>0.0</td>\n      <td>0.0</td>\n      <td>3.0</td>\n      <td>3.0</td>\n      <td>5.0</td>\n      <td>1.0</td>\n      <td>...</td>\n      <td>9.0</td>\n      <td>5.0</td>\n      <td>3.0</td>\n      <td>8.0</td>\n      <td>6.0</td>\n      <td>4.0</td>\n      <td>1.0</td>\n      <td>4.0</td>\n      <td>3.0</td>\n      <td>8.0</td>\n    </tr>\n    <tr>\n      <th>3</th>\n      <td>0.5</td>\n      <td>3.5</td>\n      <td>6.0</td>\n      <td>0.0</td>\n      <td>0.0</td>\n      <td>0.0</td>\n      <td>3.0</td>\n      <td>1.5</td>\n      <td>3.5</td>\n      <td>0.0</td>\n      <td>...</td>\n      <td>9.0</td>\n      <td>8.0</td>\n      <td>8.0</td>\n      <td>9.0</td>\n      <td>10.0</td>\n      <td>11.0</td>\n      <td>6.0</td>\n      <td>5.0</td>\n      <td>7.0</td>\n      <td>10.0</td>\n    </tr>\n    <tr>\n      <th>4</th>\n      <td>0.0</td>\n      <td>0.0</td>\n      <td>5.5</td>\n      <td>0.0</td>\n      <td>0.0</td>\n      <td>0.0</td>\n      <td>3.5</td>\n      <td>4.0</td>\n      <td>5.0</td>\n      <td>0.0</td>\n      <td>...</td>\n      <td>6.0</td>\n      <td>2.0</td>\n      <td>2.0</td>\n      <td>4.0</td>\n      <td>5.0</td>\n      <td>2.0</td>\n      <td>1.0</td>\n      <td>2.0</td>\n      <td>2.0</td>\n      <td>4.0</td>\n    </tr>\n    <tr>\n      <th>...</th>\n      <td>...</td>\n      <td>...</td>\n      <td>...</td>\n      <td>...</td>\n      <td>...</td>\n      <td>...</td>\n      <td>...</td>\n      <td>...</td>\n      <td>...</td>\n      <td>...</td>\n      <td>...</td>\n      <td>...</td>\n      <td>...</td>\n      <td>...</td>\n      <td>...</td>\n      <td>...</td>\n      <td>...</td>\n      <td>...</td>\n      <td>...</td>\n      <td>...</td>\n      <td>...</td>\n    </tr>\n    <tr>\n      <th>1195</th>\n      <td>0.0</td>\n      <td>0.0</td>\n      <td>5.0</td>\n      <td>0.0</td>\n      <td>0.0</td>\n      <td>0.0</td>\n      <td>4.0</td>\n      <td>6.5</td>\n      <td>2.0</td>\n      <td>0.0</td>\n      <td>...</td>\n      <td>12.0</td>\n      <td>14.0</td>\n      <td>11.0</td>\n      <td>1.0</td>\n      <td>0.0</td>\n      <td>0.0</td>\n      <td>0.0</td>\n      <td>0.0</td>\n      <td>1.0</td>\n      <td>2.0</td>\n    </tr>\n    <tr>\n      <th>1196</th>\n      <td>0.0</td>\n      <td>0.0</td>\n      <td>5.0</td>\n      <td>0.0</td>\n      <td>2.5</td>\n      <td>0.0</td>\n      <td>1.5</td>\n      <td>5.5</td>\n      <td>1.0</td>\n      <td>0.0</td>\n      <td>...</td>\n      <td>2.0</td>\n      <td>7.0</td>\n      <td>14.0</td>\n      <td>15.0</td>\n      <td>5.0</td>\n      <td>2.0</td>\n      <td>1.0</td>\n      <td>1.0</td>\n      <td>2.0</td>\n      <td>4.0</td>\n    </tr>\n    <tr>\n      <th>1197</th>\n      <td>2.0</td>\n      <td>0.0</td>\n      <td>5.0</td>\n      <td>0.0</td>\n      <td>4.0</td>\n      <td>1.5</td>\n      <td>0.5</td>\n      <td>3.0</td>\n      <td>0.5</td>\n      <td>0.0</td>\n      <td>...</td>\n      <td>6.0</td>\n      <td>9.0</td>\n      <td>12.0</td>\n      <td>11.0</td>\n      <td>6.0</td>\n      <td>1.0</td>\n      <td>0.0</td>\n      <td>1.0</td>\n      <td>0.0</td>\n      <td>1.0</td>\n    </tr>\n    <tr>\n      <th>1198</th>\n      <td>1.5</td>\n      <td>0.0</td>\n      <td>5.0</td>\n      <td>0.0</td>\n      <td>0.0</td>\n      <td>0.0</td>\n      <td>3.0</td>\n      <td>5.5</td>\n      <td>4.5</td>\n      <td>0.0</td>\n      <td>...</td>\n      <td>13.0</td>\n      <td>15.0</td>\n      <td>13.0</td>\n      <td>11.0</td>\n      <td>8.0</td>\n      <td>6.0</td>\n      <td>5.0</td>\n      <td>4.0</td>\n      <td>4.0</td>\n      <td>3.0</td>\n    </tr>\n    <tr>\n      <th>1199</th>\n      <td>2.0</td>\n      <td>0.0</td>\n      <td>5.5</td>\n      <td>0.0</td>\n      <td>0.0</td>\n      <td>1.0</td>\n      <td>1.0</td>\n      <td>5.0</td>\n      <td>5.0</td>\n      <td>0.0</td>\n      <td>...</td>\n      <td>2.0</td>\n      <td>7.0</td>\n      <td>15.0</td>\n      <td>12.0</td>\n      <td>5.0</td>\n      <td>1.0</td>\n      <td>0.0</td>\n      <td>0.0</td>\n      <td>0.0</td>\n      <td>3.0</td>\n    </tr>\n  </tbody>\n</table>\n<p>1200 rows × 1185 columns</p>\n</div>"
     },
     "execution_count": 59,
     "metadata": {},
     "output_type": "execute_result"
    }
   ],
   "source": [
    "# 1. ALL features for each dataset\n",
    "# TRAIN\n",
    "df_train = df.loc[df['dataset']=='train'].iloc[:,2:] # train dataset + drop 1st 2 cols\n",
    "y_train = df_train['label'] # 1st (label) col only\n",
    "X_train = df_train.iloc[:,1:] # drop 1st (label) col\n",
    "# TEST\n",
    "df_test = df.loc[df['dataset']=='test'].iloc[:,2:] # test dataset + drop 1st 2 cols\n",
    "y_test = df_test['label'] # 1st (label) col only\n",
    "X_test = df_test.iloc[:,1:] # drop 1st (label) col\n",
    "X_test\n"
   ],
   "metadata": {
    "collapsed": false,
    "pycharm": {
     "name": "#%%\n"
    }
   }
  },
  {
   "cell_type": "code",
   "execution_count": 60,
   "outputs": [
    {
     "name": "stdout",
     "output_type": "stream",
     "text": [
      "Accuracy 0.7742\n"
     ]
    }
   ],
   "source": [
    "clf = RandomForestClassifier()\n",
    "model = clf.fit(X_train, y_train)\n",
    "y_pred = model.predict(X_test)\n",
    "a_score = round(float(accuracy_score(y_test, y_pred)),4)\n",
    "print('Accuracy', a_score)"
   ],
   "metadata": {
    "collapsed": false,
    "pycharm": {
     "name": "#%%\n"
    }
   }
  },
  {
   "cell_type": "code",
   "execution_count": null,
   "outputs": [
    {
     "name": "stdout",
     "output_type": "stream",
     "text": [
      "Score : 0.7775 - Best Parameters : {'n_estimators': 900}\n",
      "Score : 0.7542 - Best Parameters : {'criterion': 'gini'}\n",
      "Score : 0.7592 - Best Parameters : {'max_depth': 30}\n",
      "Score : 0.7758 - Best Parameters : {'criterion': 'entropy', 'n_estimators': 800}\n"
     ]
    }
   ],
   "source": [
    "# 2. TUNING\n",
    "# Split combinations Grid Search with CV\n",
    "clf=RandomForestClassifier()\n",
    "n_estimators = {'n_estimators':[300, 500, 700, 800, 900]}; criterion = {'criterion':['gini', 'entropy']}; max_depth = {'max_depth':[5, 8, 15, 25, 30, None]}\n",
    "list = [n_estimators, criterion, max_depth]\n",
    "df_scores = myfns.split_grid_search(clf, X_train, y_train, X_test, y_test, list)\n",
    "df_scores"
   ],
   "metadata": {
    "collapsed": false,
    "pycharm": {
     "name": "#%%\n",
     "is_executing": true
    }
   }
  },
  {
   "cell_type": "code",
   "execution_count": null,
   "outputs": [],
   "source": [
    "# 3. JCD and Tamura features for each dataset\n",
    "# TRAIN\n",
    "X_train = df_train.iloc[:,1:] # drop 1st (label) col\n",
    "X_train = X_train.iloc[:,:186] # 168 (JCD) + 18 (Tamura) = 186\n",
    "# TEST\n",
    "X_test = df_test.iloc[:,1:] # drop 1st (label) col\n",
    "X_test = X_test.iloc[:,:186] # 168 (JCD) + 18 (Tamura) = 186\n",
    "X_test\n"
   ],
   "metadata": {
    "collapsed": false,
    "pycharm": {
     "name": "#%%\n"
    }
   }
  },
  {
   "cell_type": "code",
   "execution_count": 57,
   "outputs": [
    {
     "data": {
      "text/plain": "0.7283"
     },
     "execution_count": 57,
     "metadata": {},
     "output_type": "execute_result"
    }
   ],
   "source": [
    "clf = RandomForestClassifier()\n",
    "model = clf.fit(X_train, y_train)\n",
    "y_pred = model.predict(X_test)\n",
    "a_score = round(float(accuracy_score(y_test, y_pred)),4)\n",
    "print('Accuracy', a_score)\n",
    "\n",
    "\n"
   ],
   "metadata": {
    "collapsed": false,
    "pycharm": {
     "name": "#%%\n"
    }
   }
  }
 ],
 "metadata": {
  "kernelspec": {
   "display_name": "Python 3",
   "language": "python",
   "name": "python3"
  },
  "language_info": {
   "codemirror_mode": {
    "name": "ipython",
    "version": 2
   },
   "file_extension": ".py",
   "mimetype": "text/x-python",
   "name": "python",
   "nbconvert_exporter": "python",
   "pygments_lexer": "ipython2",
   "version": "2.7.6"
  }
 },
 "nbformat": 4,
 "nbformat_minor": 0
}