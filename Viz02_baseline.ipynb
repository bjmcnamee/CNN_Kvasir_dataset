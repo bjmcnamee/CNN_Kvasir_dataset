{
  "cells": [
    {
      "cell_type": "markdown",
      "metadata": {
        "id": "view-in-github",
        "colab_type": "text"
      },
      "source": [
        "<a href=\"https://colab.research.google.com/github/bjmcnamee/test2/blob/main/Viz02_baseline.ipynb\" target=\"_parent\"><img src=\"https://colab.research.google.com/assets/colab-badge.svg\" alt=\"Open In Colab\"/></a>"
      ]
    },
    {
      "cell_type": "code",
      "execution_count": null,
      "metadata": {
        "id": "pQPjrnUEePW7"
      },
      "outputs": [],
      "source": [
        "\"\"\"\n",
        "\n",
        "    If the notebook is running in Colab, we want to download models and results\n",
        "    when they are ready so they don't get lost if Colab times out.\n",
        "\n",
        "    This global variable keeps track of that.\n",
        "\n",
        "\"\"\"\n",
        "RunningInCOLAB = 'google.colab' in str(get_ipython())\n",
        "\n",
        "if RunningInCOLAB:\n",
        "    from google.colab import files"
      ]
    },
    {
      "cell_type": "code",
      "execution_count": null,
      "metadata": {
        "id": "y9yv5011yCUy"
      },
      "outputs": [],
      "source": [
        "%matplotlib inline\n",
        "from matplotlib import pyplot as plt\n",
        "import os\n",
        "import shutil\n",
        "import pandas as pd\n",
        "import numpy as np\n",
        "import tensorflow as tf\n",
        "from tensorflow import keras\n",
        "from sklearn.metrics import confusion_matrix, classification_report\n",
        "from keras.layers import BatchNormalization,LayerNormalization, Dropout"
      ]
    },
    {
      "cell_type": "code",
      "execution_count": null,
      "metadata": {
        "id": "EeEEA_YxvP3m"
      },
      "outputs": [],
      "source": [
        "\"\"\"\n",
        "\n",
        "    Verify we are running the correct Tensorflow version\n",
        "\n",
        "\"\"\"\n",
        "try:\n",
        "  # %tensorflow_version only exists in Colab.\n",
        "  %tensorflow_version 2.x\n",
        "except Exception:\n",
        "  pass"
      ]
    },
    {
      "cell_type": "code",
      "execution_count": null,
      "metadata": {
        "colab": {
          "base_uri": "https://localhost:8080/"
        },
        "id": "e4SgSfFivZg5",
        "outputId": "3c04fdea-de1b-48b5-9b72-878492b5ee55"
      },
      "outputs": [
        {
          "name": "stdout",
          "output_type": "stream",
          "text": [
            "Found GPU at: /device:GPU:0\n"
          ]
        }
      ],
      "source": [
        "\"\"\"\n",
        "\n",
        "    Verify that we are using a GPU runtime\n",
        "\n",
        "    If there is no GPU found, you can activate this in the Colab settings at \"Runtime => Change runtime type\".\n",
        "    If you are running this locally, GPU support might require setup of CUDA/CUDNN beforehand.\n",
        "\n",
        "    It is highly recommended to use a GPU while training the CNN models.\n",
        "\n",
        "\"\"\"\n",
        "device_name = tf.test.gpu_device_name()\n",
        "if device_name != '/device:GPU:0':\n",
        "  raise SystemError('GPU device not found')\n",
        "print('Found GPU at: {}'.format(device_name))"
      ]
    },
    {
      "cell_type": "code",
      "execution_count": null,
      "metadata": {
        "id": "woWgZDDlZc_u"
      },
      "outputs": [],
      "source": [
        "\"\"\"\n",
        "\n",
        "    A helper utility to generate a pretty confusion matrix\n",
        "\n",
        "    Citiation\n",
        "    ---------\n",
        "    http://scikit-learn.org/stable/auto_examples/model_selection/plot_confusion_matrix.html\n",
        "\n",
        "\"\"\"\n",
        "def plot_confusion_matrix(cm,\n",
        "                          target_names,\n",
        "                          title='Confusion matrix',\n",
        "                          cmap=None,\n",
        "                          normalize=True,\n",
        "                          save_path=None):\n",
        "    \"\"\"\n",
        "    given a sklearn confusion matrix (cm), make a nice plot\n",
        "\n",
        "    Arguments\n",
        "    ---------\n",
        "    cm:           confusion matrix from sklearn.metrics.confusion_matrix\n",
        "\n",
        "    target_names: given classification classes such as [0, 1, 2]\n",
        "                  the class names, for example: ['high', 'medium', 'low']\n",
        "\n",
        "    title:        the text to display at the top of the matrix\n",
        "\n",
        "    cmap:         the gradient of the values displayed from matplotlib.pyplot.cm\n",
        "                  see http://matplotlib.org/examples/color/colormaps_reference.html\n",
        "                  plt.get_cmap('jet') or plt.cm.Blues\n",
        "\n",
        "    normalize:    If False, plot the raw numbers\n",
        "                  If True, plot the proportions\n",
        "\n",
        "    Usage\n",
        "    -----\n",
        "    plot_confusion_matrix(cm           = cm,                  # confusion matrix created by\n",
        "                                                              # sklearn.metrics.confusion_matrix\n",
        "                          normalize    = True,                # show proportions\n",
        "                          target_names = y_labels_vals,       # list of names of the classes\n",
        "                          title        = best_estimator_name) # title of graph\n",
        "\n",
        "    \"\"\"\n",
        "    import matplotlib.pyplot as plt\n",
        "    import numpy as np\n",
        "    import itertools\n",
        "\n",
        "    accuracy = np.trace(cm) / np.sum(cm).astype('float')\n",
        "    misclass = 1 - accuracy\n",
        "\n",
        "    if cmap is None:\n",
        "        cmap = plt.get_cmap('Blues')\n",
        "\n",
        "    plt.figure(figsize=(10, 8))\n",
        "    plt.imshow(cm, interpolation='nearest', cmap=cmap)\n",
        "    # plt.title(title)\n",
        "    plt.colorbar()\n",
        "    plt.rcParams.update({'font.size': 18})\n",
        "\n",
        "\n",
        "    \n",
        "    if target_names is not None:\n",
        "        tick_marks = np.arange(len(target_names))\n",
        "        plt.xticks(tick_marks, target_names, rotation=45, fontsize=18, ha=\"right\")\n",
        "        plt.yticks(tick_marks, target_names, fontsize=18)\n",
        "\n",
        "    if normalize:\n",
        "        cm = cm.astype('float') / cm.sum(axis=1)[:, np.newaxis]\n",
        "\n",
        "\n",
        "    thresh = cm.max() / 1.5 if normalize else cm.max() / 2\n",
        "    for i, j in itertools.product(range(cm.shape[0]), range(cm.shape[1])):\n",
        "        if normalize:\n",
        "            plt.text(j, i, \"{:0.4f}\".format(cm[i, j]),\n",
        "                     horizontalalignment=\"center\",\n",
        "                     color=\"white\" if cm[i, j] > thresh else \"black\")\n",
        "        else:\n",
        "            plt.text(j, i, \"{:,}\".format(cm[i, j]),\n",
        "                     horizontalalignment=\"center\",\n",
        "                     color=\"white\" if cm[i, j] > thresh else \"black\")\n",
        "\n",
        "\n",
        "    plt.tight_layout()\n",
        "    plt.autoscale()\n",
        "    plt.ylabel('True label', fontsize=16)\n",
        "    plt.xlabel('Predicted label\\naccuracy={:0.4f}; misclass={:0.4f}'.format(accuracy, misclass), fontsize=16)\n",
        "\n",
        "    if save_path:\n",
        "        plt.savefig(save_path, bbox_inches='tight')\n",
        "\n",
        "    plt.show()"
      ]
    },
    {
      "cell_type": "code",
      "execution_count": null,
      "metadata": {
        "id": "qbswis9FBHG-"
      },
      "outputs": [],
      "source": [
        "\"\"\"\n",
        "\n",
        "    Utility function to plot, save and download the confusion matrix\n",
        "\n",
        "\"\"\"\n",
        "def display_confusion_matrix(y_pred, y_true, target_names, save_path=None):\n",
        "    cm = confusion_matrix(y_true, y_pred)\n",
        "    plot_confusion_matrix(cm, target_names, normalize=False, save_path=save_path)\n",
        "\n",
        "    if RunningInCOLAB and save_path:\n",
        "        files.download(save_path)\n",
        "\n",
        "\"\"\"\n",
        "\n",
        "    Utility function to print, save and download the classification report\n",
        "\n",
        "\"\"\"\n",
        "def display_classification_report(y_pred, y_true, target_names, save_path=None):\n",
        "    cr = classification_report(y_true, y_pred, target_names=target_names, output_dict=True)\n",
        "    \n",
        "    df = pd.DataFrame(cr).transpose()\n",
        "    df = df.round(2)\n",
        "\n",
        "    print(df)\n",
        "    \n",
        "    if save_path:\n",
        "        df.to_csv(save_path, sep=';')\n",
        "    \n",
        "    if RunningInCOLAB and save_path:\n",
        "        files.download(save_path)"
      ]
    },
    {
      "cell_type": "code",
      "execution_count": null,
      "metadata": {
        "id": "3FD2lR9QywgA"
      },
      "outputs": [],
      "source": [
        "\"\"\"\n",
        "\n",
        "    Simple helper utility to plot training history metrics against validation\n",
        "\n",
        "\"\"\"\n",
        "def plot_history(history):\n",
        "\n",
        "    # loss vs val_loss\n",
        "    plt.plot(history.history['loss'], label='loss')\n",
        "    plt.plot(history.history['val_loss'], label = 'val_loss')\n",
        "    plt.xlabel('Epoch')\n",
        "    plt.ylabel('Loss')\n",
        "    plt.ylim([0, 1])\n",
        "    plt.legend(loc='right')\n",
        "    plt.show()\n",
        "\n",
        "    # acc vs val_acc\n",
        "    plt.plot(history.history['accuracy'], label='accuracy')\n",
        "    plt.plot(history.history['val_accuracy'], label = 'val_accuracy')\n",
        "    plt.xlabel('Epoch')\n",
        "    plt.ylabel('Accuracy')\n",
        "    plt.ylim([0, 1])\n",
        "    plt.legend(loc='right')\n",
        "    plt.show()"
      ]
    },
    {
      "cell_type": "code",
      "execution_count": null,
      "metadata": {
        "id": "hSjl9lPpqtD1"
      },
      "outputs": [],
      "source": [
        ""
      ]
    },
    {
      "cell_type": "code",
      "execution_count": null,
      "metadata": {
        "colab": {
          "background_save": true
        },
        "id": "V5OYeaSKeupJ"
      },
      "outputs": [],
      "source": [
        "\"\"\"\n",
        "    Copy all data to Colab from Google Drive\n",
        "    - faster than copying individual files each time they are needed\n",
        "    - data already split into train, validate and test folders\n",
        "    - data saved to Colab 'content' folder\n",
        "\n",
        "    Parameters that apply for all models and datagenerators\n",
        "\"\"\"\n",
        "from google.colab import drive\n",
        "drive.mount('/content/drive')\n",
        "from os import path\n",
        "if not path.exists('/content/kvasir-dataset-v2'):\n",
        "  # copy data from Google Drive to Google Colab for faster model training - rather than fetch file each time its needed\n",
        "  %cp -av '/content/drive/MyDrive/Study/Sem2/VIZ/Ass02/kvasir-dataset-v2' '/content/kvasir-dataset-v2'"
      ]
    },
    {
      "cell_type": "code",
      "execution_count": null,
      "metadata": {
        "colab": {
          "background_save": true
        },
        "id": "FXFPS5H5wQSO"
      },
      "outputs": [],
      "source": [
        "train_path = '/content/kvasir-dataset-v2/train'\n",
        "test_path = '/content/kvasir-dataset-v2/test'\n",
        "validate_path = '/content/kvasir-dataset-v2/validate'\n",
        "\n",
        "\n",
        "batch_size = 32\n",
        "target_w = 200\n",
        "target_h = 200\n",
        "target_size = (target_w, target_h) \n",
        "target_dims = 3 # (RGB channels)"
      ]
    },
    {
      "cell_type": "markdown",
      "metadata": {
        "id": "-PhNz-VZvMvQ"
      },
      "source": [
        "## 2 Convolutional Neural Network"
      ]
    },
    {
      "cell_type": "markdown",
      "metadata": {
        "id": "Yu-Q2Ii26w3p"
      },
      "source": [
        "### 2.1 Preprocessing"
      ]
    },
    {
      "cell_type": "code",
      "execution_count": null,
      "metadata": {
        "colab": {
          "background_save": true
        },
        "id": "x2JRpOsS3r9u",
        "outputId": "e58fe682-e74c-42f2-c8a4-1486dc695a31"
      },
      "outputs": [
        {
          "name": "stdout",
          "output_type": "stream",
          "text": [
            "Found 4480 images belonging to 8 classes.\n",
            "Found 240 images belonging to 8 classes.\n",
            "Found 1200 images belonging to 8 classes.\n"
          ]
        }
      ],
      "source": [
        "\"\"\"\n",
        "\n",
        "    Set up datagenerators for CNN model\n",
        "\n",
        "    Datagenerators handle image augmentation (shear, zoom, horizontal flips) as well as rescaling.\n",
        "    The datagenerator also has a built-in training/validation splitter, which creates a new 80/20 split.\n",
        "\n",
        "    In addition to that, we want a separate generator with our test set.\n",
        "\n",
        "    The dataset will be split as follows:\n",
        "    - Training set (64% - 80% of 80)\n",
        "    - Validation set (16% - 20% of 80)\n",
        "    - Test set (20%)\n",
        "\n",
        "\"\"\"\n",
        "\n",
        "\"\"\"\n",
        "    Datagenerator for training set\n",
        "\"\"\"\n",
        "cnn_train_idg = keras.preprocessing.image.ImageDataGenerator(rescale=1./255,\n",
        "    shear_range=0.2,\n",
        "    zoom_range=0.2,\n",
        "    horizontal_flip=True,\n",
        "    validation_split=0.2) # If defined, will split based on 'subset' in flow_from_directory()\n",
        "\n",
        "cnn_train_datagen = cnn_train_idg.flow_from_directory(\n",
        "    train_path,\n",
        "    target_size=target_size,\n",
        "    batch_size=batch_size,\n",
        "    class_mode='sparse',\n",
        "    shuffle=True,\n",
        "    subset='training') # Marks this as the training data\n",
        "\n",
        "cnn_val_datagen = cnn_train_idg.flow_from_directory(\n",
        "    validate_path, \n",
        "    target_size=target_size,\n",
        "    batch_size=batch_size,\n",
        "    class_mode='sparse',\n",
        "    shuffle=False,\n",
        "    subset='validation') # Marks this as the validation data\n",
        "\n",
        "\"\"\"\n",
        "    Datagenerator for test set\n",
        "\"\"\"\n",
        "cnn_test_idg = keras.preprocessing.image.ImageDataGenerator(rescale=1./255)\n",
        "\n",
        "cnn_test_datagen = cnn_test_idg.flow_from_directory(\n",
        "    test_path, \n",
        "    target_size=target_size,\n",
        "    batch_size=batch_size,\n",
        "    class_mode='sparse',\n",
        "    shuffle=False)"
      ]
    },
    {
      "cell_type": "markdown",
      "metadata": {
        "id": "MSHfIPQg6yXs"
      },
      "source": [
        "### 2.2 Build model"
      ]
    },
    {
      "cell_type": "code",
      "execution_count": null,
      "metadata": {
        "colab": {
          "background_save": true
        },
        "id": "PSIhSXjXwCId"
      },
      "outputs": [],
      "source": [
        "\"\"\"\n",
        "\n",
        "    Function to build a simple CNN model layer by layer\n",
        "\n",
        "\"\"\"\n",
        "def build_simple_cnn():\n",
        "    model = keras.models.Sequential()\n",
        "    \n",
        "    model.add(keras.layers.Conv2D(32, (3, 3), activation='relu', input_shape=(target_w, target_h, target_dims)))\n",
        "    model.add(keras.layers.MaxPooling2D((2, 2)))\n",
        "    model.add(BatchNormalization())\n",
        "    model.add(keras.layers.Conv2D(64, (3, 3), activation='relu'))\n",
        "    model.add(keras.layers.MaxPooling2D((2, 2)))\n",
        "    model.add(BatchNormalization())\n",
        "    model.add(keras.layers.Conv2D(64, (3, 3), activation='relu'))\n",
        "    model.add(keras.layers.Flatten())\n",
        "    model.add(Dropout(0.5))\n",
        "    model.add(keras.layers.Dense(64, activation='relu'))\n",
        "    model.add(keras.layers.Dense(8, activation='softmax'))\n",
        "\n",
        "    model.summary()\n",
        "\n",
        "    return model"
      ]
    },
    {
      "cell_type": "code",
      "execution_count": null,
      "metadata": {
        "colab": {
          "background_save": true
        },
        "id": "ufTUvzwxwC-r",
        "outputId": "92edca83-1304-4a89-8276-03d7a4ecd637"
      },
      "outputs": [
        {
          "name": "stdout",
          "output_type": "stream",
          "text": [
            "Model: \"sequential\"\n",
            "_________________________________________________________________\n",
            " Layer (type)                Output Shape              Param #   \n",
            "=================================================================\n",
            " conv2d (Conv2D)             (None, 198, 198, 32)      896       \n",
            "                                                                 \n",
            " max_pooling2d (MaxPooling2D  (None, 99, 99, 32)       0         \n",
            " )                                                               \n",
            "                                                                 \n",
            " batch_normalization (BatchN  (None, 99, 99, 32)       128       \n",
            " ormalization)                                                   \n",
            "                                                                 \n",
            " conv2d_1 (Conv2D)           (None, 97, 97, 64)        18496     \n",
            "                                                                 \n",
            " max_pooling2d_1 (MaxPooling  (None, 48, 48, 64)       0         \n",
            " 2D)                                                             \n",
            "                                                                 \n",
            " batch_normalization_1 (Batc  (None, 48, 48, 64)       256       \n",
            " hNormalization)                                                 \n",
            "                                                                 \n",
            " conv2d_2 (Conv2D)           (None, 46, 46, 64)        36928     \n",
            "                                                                 \n",
            " flatten (Flatten)           (None, 135424)            0         \n",
            "                                                                 \n",
            " dropout (Dropout)           (None, 135424)            0         \n",
            "                                                                 \n",
            " dense (Dense)               (None, 64)                8667200   \n",
            "                                                                 \n",
            " dense_1 (Dense)             (None, 8)                 520       \n",
            "                                                                 \n",
            "=================================================================\n",
            "Total params: 8,724,424\n",
            "Trainable params: 8,724,232\n",
            "Non-trainable params: 192\n",
            "_________________________________________________________________\n"
          ]
        }
      ],
      "source": [
        "\"\"\"\n",
        "\n",
        "    Actually build and compile the model\n",
        "\n",
        "\"\"\"\n",
        "simple_cnn = build_simple_cnn()\n",
        "\n",
        "simple_cnn.compile(\n",
        "    optimizer=keras.optimizers.Adam(0.001),\n",
        "    loss='sparse_categorical_crossentropy',\n",
        "    metrics=[ 'accuracy' ]\n",
        ")"
      ]
    },
    {
      "cell_type": "markdown",
      "metadata": {
        "id": "zPLcJZfI6z9y"
      },
      "source": [
        "### 2.3 Train model"
      ]
    },
    {
      "cell_type": "code",
      "execution_count": null,
      "metadata": {
        "colab": {
          "background_save": true
        },
        "id": "pHaV8x1TwJzJ",
        "outputId": "05781a26-4655-451d-a778-d2bc7eaf8000"
      },
      "outputs": [
        {
          "name": "stdout",
          "output_type": "stream",
          "text": [
            "Epoch 1/20\n",
            "140/140 [==============================] - 108s 700ms/step - loss: 2.5416 - accuracy: 0.4234 - val_loss: 2.1977 - val_accuracy: 0.2500\n",
            "Epoch 2/20\n",
            "140/140 [==============================] - 98s 700ms/step - loss: 1.1761 - accuracy: 0.5696 - val_loss: 2.7603 - val_accuracy: 0.3208\n",
            "Epoch 3/20\n",
            "140/140 [==============================] - 98s 700ms/step - loss: 1.1825 - accuracy: 0.5739 - val_loss: 1.3225 - val_accuracy: 0.5167\n",
            "Epoch 4/20\n",
            "140/140 [==============================] - 98s 699ms/step - loss: 1.0220 - accuracy: 0.6107 - val_loss: 2.2853 - val_accuracy: 0.3583\n",
            "Epoch 5/20\n",
            "140/140 [==============================] - 97s 695ms/step - loss: 0.9990 - accuracy: 0.6047 - val_loss: 1.3657 - val_accuracy: 0.5875\n",
            "Epoch 6/20\n",
            "140/140 [==============================] - 97s 690ms/step - loss: 0.9335 - accuracy: 0.6348 - val_loss: 1.4050 - val_accuracy: 0.5083\n",
            "Epoch 7/20\n",
            "140/140 [==============================] - 97s 692ms/step - loss: 0.8850 - accuracy: 0.6377 - val_loss: 1.1566 - val_accuracy: 0.6042\n",
            "Epoch 8/20\n",
            "140/140 [==============================] - 96s 684ms/step - loss: 0.8899 - accuracy: 0.6350 - val_loss: 0.9899 - val_accuracy: 0.6208\n",
            "Epoch 9/20\n",
            "140/140 [==============================] - 96s 685ms/step - loss: 0.8852 - accuracy: 0.6440 - val_loss: 1.1636 - val_accuracy: 0.6125\n",
            "Epoch 10/20\n",
            "140/140 [==============================] - 96s 687ms/step - loss: 0.8692 - accuracy: 0.6270 - val_loss: 1.1355 - val_accuracy: 0.5542\n",
            "Epoch 11/20\n",
            "140/140 [==============================] - 96s 686ms/step - loss: 0.8297 - accuracy: 0.6471 - val_loss: 1.2558 - val_accuracy: 0.5250\n",
            "Epoch 12/20\n",
            "140/140 [==============================] - 96s 686ms/step - loss: 0.8389 - accuracy: 0.6455 - val_loss: 1.1555 - val_accuracy: 0.5792\n",
            "Epoch 13/20\n",
            "140/140 [==============================] - 96s 686ms/step - loss: 0.8076 - accuracy: 0.6446 - val_loss: 1.8265 - val_accuracy: 0.4875\n",
            "Epoch 14/20\n",
            "140/140 [==============================] - 96s 684ms/step - loss: 0.7764 - accuracy: 0.6580 - val_loss: 1.1944 - val_accuracy: 0.5375\n",
            "Epoch 15/20\n",
            "140/140 [==============================] - 96s 684ms/step - loss: 0.8070 - accuracy: 0.6371 - val_loss: 1.1429 - val_accuracy: 0.5792\n",
            "Epoch 16/20\n",
            "140/140 [==============================] - 96s 684ms/step - loss: 0.7525 - accuracy: 0.6647 - val_loss: 0.9781 - val_accuracy: 0.5667\n",
            "Epoch 17/20\n",
            "140/140 [==============================] - 96s 683ms/step - loss: 0.7467 - accuracy: 0.6696 - val_loss: 1.1015 - val_accuracy: 0.6042\n",
            "Epoch 18/20\n",
            "140/140 [==============================] - 96s 684ms/step - loss: 0.7273 - accuracy: 0.6743 - val_loss: 1.1170 - val_accuracy: 0.5250\n",
            "Epoch 19/20\n",
            "140/140 [==============================] - 96s 686ms/step - loss: 0.6957 - accuracy: 0.6891 - val_loss: 1.0013 - val_accuracy: 0.6292\n",
            "Epoch 20/20\n",
            "140/140 [==============================] - 96s 683ms/step - loss: 0.6489 - accuracy: 0.7051 - val_loss: 0.7359 - val_accuracy: 0.6542\n"
          ]
        },
        {
          "data": {
            "application/javascript": [
              "\n",
              "    async function download(id, filename, size) {\n",
              "      if (!google.colab.kernel.accessAllowed) {\n",
              "        return;\n",
              "      }\n",
              "      const div = document.createElement('div');\n",
              "      const label = document.createElement('label');\n",
              "      label.textContent = `Downloading \"${filename}\": `;\n",
              "      div.appendChild(label);\n",
              "      const progress = document.createElement('progress');\n",
              "      progress.max = size;\n",
              "      div.appendChild(progress);\n",
              "      document.body.appendChild(div);\n",
              "\n",
              "      const buffers = [];\n",
              "      let downloaded = 0;\n",
              "\n",
              "      const channel = await google.colab.kernel.comms.open(id);\n",
              "      // Send a message to notify the kernel that we're ready.\n",
              "      channel.send({})\n",
              "\n",
              "      for await (const message of channel.messages) {\n",
              "        // Send a message to notify the kernel that we're ready.\n",
              "        channel.send({})\n",
              "        if (message.buffers) {\n",
              "          for (const buffer of message.buffers) {\n",
              "            buffers.push(buffer);\n",
              "            downloaded += buffer.byteLength;\n",
              "            progress.value = downloaded;\n",
              "          }\n",
              "        }\n",
              "      }\n",
              "      const blob = new Blob(buffers, {type: 'application/binary'});\n",
              "      const a = document.createElement('a');\n",
              "      a.href = window.URL.createObjectURL(blob);\n",
              "      a.download = filename;\n",
              "      div.appendChild(a);\n",
              "      a.click();\n",
              "      div.remove();\n",
              "    }\n",
              "  "
            ],
            "text/plain": [
              "<IPython.core.display.Javascript object>"
            ]
          },
          "metadata": {},
          "output_type": "display_data"
        },
        {
          "data": {
            "application/javascript": [
              "download(\"download_e1803087-f039-4b6e-afca-22e027a22fee\", \"cnn_simple.hdf5\", 104762176)"
            ],
            "text/plain": [
              "<IPython.core.display.Javascript object>"
            ]
          },
          "metadata": {},
          "output_type": "display_data"
        }
      ],
      "source": [
        "\"\"\"\n",
        "    Start fitting the model\n",
        "\"\"\"\n",
        "cnn_history = simple_cnn.fit(cnn_train_datagen, \n",
        "                        epochs=20,\n",
        "                        verbose=1, \n",
        "                        validation_data=cnn_val_datagen)\n",
        "\n",
        "simple_cnn.save('models/cnn_simple.hdf5')\n",
        "\n",
        "if RunningInCOLAB:\n",
        "    files.download('models/cnn_simple.hdf5')"
      ]
    },
    {
      "cell_type": "markdown",
      "metadata": {
        "id": "Cv9zSMXn61fS"
      },
      "source": [
        "### 2.4 Evaluate model"
      ]
    },
    {
      "cell_type": "code",
      "execution_count": null,
      "metadata": {
        "colab": {
          "background_save": true
        },
        "id": "to6P5owEbVP-",
        "outputId": "e2aa7efc-f789-4346-f7c5-b80089847511"
      },
      "outputs": [
        {
          "data": {
            "image/png": "[encoded data removed]",
            "text/plain": [
              "<Figure size 576x576 with 2 Axes>"
            ]
          },
          "metadata": {},
          "output_type": "display_data"
        }
      ],
      "source": [
        "acc = cnn_history.history['accuracy']\n",
        "val_acc = cnn_history.history['val_accuracy']\n",
        "\n",
        "loss = cnn_history.history['loss']\n",
        "val_loss = cnn_history.history['val_loss']\n",
        "\n",
        "epochs_range = range(len(acc))\n",
        "\n",
        "plt.figure(figsize=(8, 8))\n",
        "plt.subplot(1, 2, 1)\n",
        "plt.plot(epochs_range, acc, label='Training Accuracy')\n",
        "plt.plot(epochs_range, val_acc, label='Validation Accuracy')\n",
        "plt.legend(loc='lower right')\n",
        "plt.title('Training and Validation Accuracy')\n",
        "\n",
        "plt.subplot(1, 2, 2)\n",
        "plt.plot(epochs_range, loss, label='Training Loss')\n",
        "plt.plot(epochs_range, val_loss, label='Validation Loss')\n",
        "plt.legend(loc='upper right')\n",
        "plt.title('Training and Validation Loss')\n",
        "plt.show()"
      ]
    },
    {
      "cell_type": "code",
      "execution_count": null,
      "metadata": {
        "colab": {
          "background_save": true
        },
        "id": "Z7l_Z6h3h1E7",
        "outputId": "4891af37-e9db-4cee-a17a-1674f76f6abf"
      },
      "outputs": [
        {
          "name": "stdout",
          "output_type": "stream",
          "text": [
            "7/7 [==============================] - 5s 692ms/step - loss: 0.7235 - accuracy: 0.6786\n"
          ]
        }
      ],
      "source": [
        "from keras.models import load_model\n",
        "best_model = load_model(filepath='models/cnn_simple.hdf5')\n",
        "loss, acc = best_model.evaluate(cnn_val_datagen, steps=cnn_val_datagen.n//cnn_val_datagen.batch_size)"
      ]
    },
    {
      "cell_type": "code",
      "execution_count": null,
      "metadata": {
        "colab": {
          "background_save": true
        },
        "id": "axlPhfQBh6AB",
        "outputId": "68ff3e9d-d56c-4951-c1f0-a360931162a5"
      },
      "outputs": [
        {
          "name": "stdout",
          "output_type": "stream",
          "text": [
            "Loss :  0.7235 Accuracy :  0.6786\n"
          ]
        }
      ],
      "source": [
        "print ('Loss : ',round(loss,4), 'Accuracy : ',round(acc,4))"
      ]
    },
    {
      "cell_type": "code",
      "execution_count": null,
      "metadata": {
        "colab": {
          "background_save": true
        },
        "id": "H9d3P5lWHxaV",
        "outputId": "72ec51d5-f611-43e5-ce04-dace40d43448"
      },
      "outputs": [
        {
          "name": "stdout",
          "output_type": "stream",
          "text": [
            "38/38 [==============================] - 16s 436ms/step\n"
          ]
        }
      ],
      "source": [
        "\"\"\"\n",
        "    Use the model to predict on the unseen test set.\n",
        "\"\"\"\n",
        "cnn_predictions = simple_cnn.predict(cnn_test_datagen, verbose=1)"
      ]
    },
    {
      "cell_type": "code",
      "execution_count": null,
      "metadata": {
        "colab": {
          "background_save": true
        },
        "id": "wqGeYo_Vc8K4",
        "outputId": "afa99c7f-05c2-4674-8bd8-a927b8f44553"
      },
      "outputs": [
        {
          "data": {
            "image/png": "[encoded data removed]",
            "text/plain": [
              "<Figure size 720x576 with 2 Axes>"
            ]
          },
          "metadata": {},
          "output_type": "display_data"
        },
        {
          "data": {
            "application/javascript": [
              "\n",
              "    async function download(id, filename, size) {\n",
              "      if (!google.colab.kernel.accessAllowed) {\n",
              "        return;\n",
              "      }\n",
              "      const div = document.createElement('div');\n",
              "      const label = document.createElement('label');\n",
              "      label.textContent = `Downloading \"${filename}\": `;\n",
              "      div.appendChild(label);\n",
              "      const progress = document.createElement('progress');\n",
              "      progress.max = size;\n",
              "      div.appendChild(progress);\n",
              "      document.body.appendChild(div);\n",
              "\n",
              "      const buffers = [];\n",
              "      let downloaded = 0;\n",
              "\n",
              "      const channel = await google.colab.kernel.comms.open(id);\n",
              "      // Send a message to notify the kernel that we're ready.\n",
              "      channel.send({})\n",
              "\n",
              "      for await (const message of channel.messages) {\n",
              "        // Send a message to notify the kernel that we're ready.\n",
              "        channel.send({})\n",
              "        if (message.buffers) {\n",
              "          for (const buffer of message.buffers) {\n",
              "            buffers.push(buffer);\n",
              "            downloaded += buffer.byteLength;\n",
              "            progress.value = downloaded;\n",
              "          }\n",
              "        }\n",
              "      }\n",
              "      const blob = new Blob(buffers, {type: 'application/binary'});\n",
              "      const a = document.createElement('a');\n",
              "      a.href = window.URL.createObjectURL(blob);\n",
              "      a.download = filename;\n",
              "      div.appendChild(a);\n",
              "      a.click();\n",
              "      div.remove();\n",
              "    }\n",
              "  "
            ],
            "text/plain": [
              "<IPython.core.display.Javascript object>"
            ]
          },
          "metadata": {},
          "output_type": "display_data"
        },
        {
          "data": {
            "application/javascript": [
              "download(\"download_66906b64-b148-4cd7-b3c5-333869642816\", \"cnn_simple_confusion_matrix.png\", 75394)"
            ],
            "text/plain": [
              "<IPython.core.display.Javascript object>"
            ]
          },
          "metadata": {},
          "output_type": "display_data"
        },
        {
          "name": "stdout",
          "output_type": "stream",
          "text": [
            "                        precision  recall  f1-score  support\n",
            "dyed-lifted-polyps           0.00    0.00      0.00   150.00\n",
            "dyed-resection-margins       0.12    1.00      0.22   150.00\n",
            "esophagitis                  0.00    0.00      0.00   150.00\n",
            "normal-cecum                 0.00    0.00      0.00   150.00\n",
            "normal-pylorus               0.00    0.00      0.00   150.00\n",
            "normal-z-line                0.00    0.00      0.00   150.00\n",
            "polyps                       0.00    0.00      0.00   150.00\n",
            "ulcerative-colitis           0.00    0.00      0.00   150.00\n",
            "accuracy                     0.12    0.12      0.12     0.12\n",
            "macro avg                    0.02    0.12      0.03  1200.00\n",
            "weighted avg                 0.02    0.12      0.03  1200.00\n"
          ]
        },
        {
          "name": "stderr",
          "output_type": "stream",
          "text": [
            "/usr/local/lib/python3.7/dist-packages/sklearn/metrics/_classification.py:1318: UndefinedMetricWarning: Precision and F-score are ill-defined and being set to 0.0 in labels with no predicted samples. Use `zero_division` parameter to control this behavior.\n",
            "  _warn_prf(average, modifier, msg_start, len(result))\n",
            "/usr/local/lib/python3.7/dist-packages/sklearn/metrics/_classification.py:1318: UndefinedMetricWarning: Precision and F-score are ill-defined and being set to 0.0 in labels with no predicted samples. Use `zero_division` parameter to control this behavior.\n",
            "  _warn_prf(average, modifier, msg_start, len(result))\n",
            "/usr/local/lib/python3.7/dist-packages/sklearn/metrics/_classification.py:1318: UndefinedMetricWarning: Precision and F-score are ill-defined and being set to 0.0 in labels with no predicted samples. Use `zero_division` parameter to control this behavior.\n",
            "  _warn_prf(average, modifier, msg_start, len(result))\n"
          ]
        },
        {
          "data": {
            "application/javascript": [
              "\n",
              "    async function download(id, filename, size) {\n",
              "      if (!google.colab.kernel.accessAllowed) {\n",
              "        return;\n",
              "      }\n",
              "      const div = document.createElement('div');\n",
              "      const label = document.createElement('label');\n",
              "      label.textContent = `Downloading \"${filename}\": `;\n",
              "      div.appendChild(label);\n",
              "      const progress = document.createElement('progress');\n",
              "      progress.max = size;\n",
              "      div.appendChild(progress);\n",
              "      document.body.appendChild(div);\n",
              "\n",
              "      const buffers = [];\n",
              "      let downloaded = 0;\n",
              "\n",
              "      const channel = await google.colab.kernel.comms.open(id);\n",
              "      // Send a message to notify the kernel that we're ready.\n",
              "      channel.send({})\n",
              "\n",
              "      for await (const message of channel.messages) {\n",
              "        // Send a message to notify the kernel that we're ready.\n",
              "        channel.send({})\n",
              "        if (message.buffers) {\n",
              "          for (const buffer of message.buffers) {\n",
              "            buffers.push(buffer);\n",
              "            downloaded += buffer.byteLength;\n",
              "            progress.value = downloaded;\n",
              "          }\n",
              "        }\n",
              "      }\n",
              "      const blob = new Blob(buffers, {type: 'application/binary'});\n",
              "      const a = document.createElement('a');\n",
              "      a.href = window.URL.createObjectURL(blob);\n",
              "      a.download = filename;\n",
              "      div.appendChild(a);\n",
              "      a.click();\n",
              "      div.remove();\n",
              "    }\n",
              "  "
            ],
            "text/plain": [
              "<IPython.core.display.Javascript object>"
            ]
          },
          "metadata": {},
          "output_type": "display_data"
        },
        {
          "data": {
            "application/javascript": [
              "download(\"download_8e7b7d03-181c-4bc7-b57d-0d6e542561c6\", \"cnn_simple_classification_report.csv\", 399)"
            ],
            "text/plain": [
              "<IPython.core.display.Javascript object>"
            ]
          },
          "metadata": {},
          "output_type": "display_data"
        }
      ],
      "source": [
        "\"\"\"\n",
        "\n",
        "    Evaluate the prediction results.\n",
        "\n",
        "    Displays a Confusion Matrix and a Classification Report.\n",
        "    These are also saved to the 'results' folder.\n",
        "\n",
        "\"\"\"\n",
        "unique_labels = list(cnn_test_datagen.class_indices.keys())\n",
        "\n",
        "y_pred = np.argmax(cnn_predictions, axis=-1)\n",
        "y_true = cnn_test_datagen.classes[cnn_test_datagen.index_array]\n",
        "\n",
        "display_confusion_matrix(\n",
        "    y_pred=y_pred, \n",
        "    y_true=y_true, \n",
        "    target_names=unique_labels, \n",
        "    save_path='cnn_simple_confusion_matrix.png'\n",
        ")\n",
        "\n",
        "display_classification_report(\n",
        "    y_pred=y_pred, \n",
        "    y_true=y_true, \n",
        "    target_names=unique_labels, \n",
        "    save_path='cnn_simple_classification_report.csv'\n",
        ")"
      ]
    }
  ],
  "metadata": {
    "accelerator": "GPU",
    "colab": {
      "background_execution": "on",
      "collapsed_sections": [],
      "machine_shape": "hm",
      "name": "Viz02_baseline.ipynb",
      "provenance": [],
      "include_colab_link": true
    },
    "kernelspec": {
      "display_name": "Python 3",
      "name": "python3"
    }
  },
  "nbformat": 4,
  "nbformat_minor": 0
}